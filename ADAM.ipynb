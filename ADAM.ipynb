version https://git-lfs.github.com/spec/v1
oid sha256:d5668238e3438a1f8264bc72d10587d165904cabe1dfe0f988ce4e7213310759
size 57906
